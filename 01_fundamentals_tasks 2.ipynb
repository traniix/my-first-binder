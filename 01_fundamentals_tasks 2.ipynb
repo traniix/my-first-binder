{
 "cells": [
  {
   "cell_type": "markdown",
   "metadata": {},
   "source": [
    "<img src=\"https://www.dpo.rwth-aachen.de/global/show_picture_asis.asp?id=aaaaaaaabftpwfx\" width=200 height=200 align=\"left\" /> <img src=\"https://www.dpo.rwth-aachen.de/global/show_picture_asis.asp?id=aaaaaaaabftpxde\" width=200 height=200 align=\"right\" />"
   ]
  },
  {
   "cell_type": "markdown",
   "metadata": {},
   "source": [
    "<h1><center> Introduction to Programming for Business Analytics </center></h1>  \n",
    "\n",
    "<p style=\"text-align:left;\">\n",
    "    Murwan Siddig, Stefan Pilot\n",
    "</p>\n",
    "<a href=\"mailto:ipba@dpo.rwth-aachen.de\">ipba@dpo.rwth-aachen.de</a> <br>"
   ]
  },
  {
   "cell_type": "markdown",
   "metadata": {},
   "source": [
    "## Exercise 1: Fundamentals\n",
    "\n",
    "Welcome to the first exercise sheet! A quick word of advice before you get started:\n",
    "\n",
    "* Every task in the IPBA exercises is labelled:\n",
    "    - Tasks labelled as \u2b50 require that you reproduce what you saw during the lecture.\n",
    "    - Tasks labelled as \u2b50\u2b50 require that you apply your skills and knowledge in a new context or to a new problem.\n",
    "    - Tasks labelled as \u2b50\u2b50\u2b50 require that you do research to learn something that was not discussed in the lecture. \n",
    "\n",
    "* Some tasks ask you to write some Julia code. Use the REPL to test your code.\n",
    "* To find the answers, study the lecture videos, lecture slides, the book [Think Julia!](https://benlauwens.github.io/ThinkJulia.jl/latest/book.html), or the [official Julia documentation](https://docs.julialang.org/en/v1/). \n",
    "* If there is any task you cannot solve by yourself, ask for help on Moodle.\n",
    "\n",
    "\n",
    "### Task 1: Literals and expressions \u2b50\n",
    "\n",
    "1. Give five examples for a numeric literal in Julia\n",
    "2. Give five examples for a Julia expression involving exactly one unary operator and exactly one numeric literal. \n",
    "3. Give five examples for a Julia expression involving exactly one binary operator and exactly two numeric literals."
   ]
  },
  {
   "cell_type": "markdown",
   "metadata": {},
   "source": [
    "### Task 2: Calculating with expressions \u2b50\n",
    "For each of the following questions, evaluate an expression using the Julia REPL to find the answer.\n",
    "\n",
    "1. How many seconds are there in 24 minutes 42 seconds?\n",
    "2. Suppose your taxable income is \u20ac53180, and the income tax rate is 42\\%. What is your income after tax?\n",
    "3. Suppose you drive 90 kilometers per hour. How many meters do you drive per second?\n",
    "4. What is the area of a circle with a radius of 13 meters?\n",
    "5. Suppose the cover price of a book is \u20ac24.95, but your bookstore gets a 40\\% discount. Shipping costs \u20ac3 for the first copy and \u20ac0.75 for each additional copy. What is the total cost for 60 copies?"
   ]
  },
  {
   "cell_type": "markdown",
   "metadata": {},
   "source": [
    "### Task 3: Basics of assignment statements \u2b50\n",
    "\n",
    "1. Name the three components of an assignment statement.\n",
    "2. Give an example for an assignment statement.\n",
    "3. Assume that no assignment to the variable `x` has been executed since the Julia REPL was started. Give an example for an expression that is illegal before the statement `x = 5` has been executed, but is legal thereafter."
   ]
  },
  {
   "cell_type": "markdown",
   "metadata": {},
   "source": [
    "### Task 4: Update operators \u2b50\u2b50\n",
    "For each of the following Julia statements, decide whether they are \n",
    "\n",
    "(a) plain assignment statements or\n",
    "\n",
    "(b) statements which involve an update operator.\n",
    "\n",
    "For each statement of type (a), decide whether it is possible to give an equivalent statement of type (b), and vice versa. If possible, give the equivalent statement. If not, explain why not.\n",
    "\n",
    "1. `i += 1`\n",
    "2. `s *= 5`\n",
    "3. `result = 1 + 2`\n",
    "4. `var = var - 7`"
   ]
  },
  {
   "cell_type": "markdown",
   "metadata": {},
   "source": [
    "### Task 5: Basics of elementary functions \u2b50\n",
    "1. Name the five components of an elementary function definition.\n",
    "2. Give an example for an elementary function definition.\n",
    "3. Name the three components of a function call.\n",
    "4. Give an example for a function call, in which your function from Task 5.2 is called."
   ]
  },
  {
   "cell_type": "markdown",
   "metadata": {},
   "source": [
    "### Task 6: Variable and function names \u2b50\u2b50\n",
    "\n",
    "For each of the following Julia statements, decide whether it is legal Julia code or not. If not, explain why not.\n",
    "\n",
    "1. `x = 3`\n",
    "2. `3 = x`\n",
    "3. `function = 3`\n",
    "4. `end(x, y) = x + y`\n",
    "5. `add(x, y) = x + y`"
   ]
  },
  {
   "cell_type": "markdown",
   "metadata": {},
   "source": [
    "### Task 7: Writing Julia functions \u2b50\u2b50\n",
    "\n",
    "For each of the following mathematical functions, give an equivalent Julia function.\n",
    "\n",
    "1. $f(x)=mx + b$\n",
    "2. $\\text{binomial}(a,b) = a^2 - 2ab + b^2$\n",
    "3. $\\text{growth}(x,m) = \\frac{1}{1+e^{-0.05x}}$\n",
    "4. $\\text{gauss}(x,\\mu,\\sigma) = \\frac{1}{\\sigma\\sqrt{2\\pi}}e^{-\\frac{1}{2}\\left(\\frac{x-\\mu}{\\sigma}\\right)^{\\!2}}$"
   ]
  },
  {
   "cell_type": "markdown",
   "metadata": {},
   "source": [
    "### Task 8: Reading Julia functions \u2b50\u2b50\n",
    "\n",
    "For each of the following inline Julia functions, give an equivalent mathematical function.\n",
    "\n",
    "1. `f(x, y) = 100*(y - x^2)^2 + (1 - x)^2`\n",
    "2. `revenue(p, q) = 500*q^2 + 1/3*q`\n",
    "3. `archimedes(r, h) = -pi*h^2*(r - h/3)`\n",
    "4. `entropy(p) = p*log(2,p)+(1-p)*log(2,1-p)`"
   ]
  },
  {
   "cell_type": "markdown",
   "metadata": {},
   "source": [
    "### Task 9: Application of functions \u2b50\u2b50\n",
    "\n",
    "Suppose you have the opportunity to buy a pretzel cart and start a pretzel selling business. You can use Julia in your analysis of whether this is a good investment.\n",
    "\n",
    "1. Write a Julia function that expresses your pretzel cart's earnings after tax (EAT) as a function of\n",
    "    * the earnings before taxes and interest (EBIT),\n",
    "    * the interest expenses, and\n",
    "    * the taxes to be paid.\n",
    "2. For the purpose of this exercise, let the break-even point be the minimum number of pretzels you need to sell such that your revenue is equal to your costs. Write a Julia function that expresses your pretzel cart's break-even point as a function of the price of one pretzel $p$, the cost of one pretzel $v$, and the fixed costs $c$. (Hint: Julia [has a built-in function](https://docs.julialang.org/en/v1/base/math/#Base.ceil) that you can use to round your result up to the next even number of pretzels.)\n",
    "3. Suppose that as an alternative to buying the pretzel cart, you consider putting the money into a new savings account. Write a Julia function that expresses the account's debit after $t$ years as a function of the cart's price $a$, the account's annual interest rate $r$ and the number of years $t$. "
   ]
  }
 ],
 "metadata": {
  "kernelspec": {
   "display_name": "Julia 1.8.2",
   "language": "julia",
   "name": "julia-1.8"
  },
  "language_info": {
   "file_extension": ".jl",
   "mimetype": "application/julia",
   "name": "julia",
   "version": "1.8.2"
  }
 },
 "nbformat": 4,
 "nbformat_minor": 4
}