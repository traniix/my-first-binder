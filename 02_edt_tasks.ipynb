{
 "cells": [
  {
   "cell_type": "markdown",
   "id": "e97bffea",
   "metadata": {},
   "source": [
    "<img src=\"https://www.dpo.rwth-aachen.de/global/show_picture_asis.asp?id=aaaaaaaabftpwfx\" width=200 height=200 align=\"left\" /> <img src=\"https://www.dpo.rwth-aachen.de/global/show_picture_asis.asp?id=aaaaaaaabftpxde\" width=200 height=200 align=\"right\" />"
   ]
  },
  {
   "cell_type": "markdown",
   "id": "ab101c07",
   "metadata": {},
   "source": [
    "<h1><center> Introduction to Programming for Business Analytics </center></h1>  \n",
    "\n",
    "<p style=\"text-align:left;\">\n",
    "    Murwan Siddig, Stefan Pilot\n",
    "</p>\n",
    "<a href=\"mailto:ipba@dpo.rwth-aachen.de\">ipba@dpo.rwth-aachen.de</a> <br>"
   ]
  },
  {
   "cell_type": "markdown",
   "id": "15fb4dc9",
   "metadata": {},
   "source": [
    "## Exercise 2: Elementary Data Types\n",
    "\n",
    "Welcome to the second exercise sheet! A quick word of advice before you get started:\n",
    "\n",
    "* Every task in the IPBA exercises is labelled:\n",
    "    - Tasks labelled as \u2b50 require that you reproduce what you saw during the lecture.\n",
    "    - Tasks labelled as \u2b50\u2b50 require that you apply your skills and knowledge in a new context or to a new problem.\n",
    "    - Tasks labelled as \u2b50\u2b50\u2b50 require that you do research to learn something that was not discussed in the lecture. \n",
    "* Some tasks ask you to write some Julia code. Type your code in the code cells which are labelled with `# Start your code here` or `# Test your function here`\n",
    "* To find the answers, study the lecture videos, lecture slides, the book [Think Julia!](https://benlauwens.github.io/ThinkJulia.jl/latest/book.html), or the [official Julia documentation](https://docs.julialang.org/en/v1/). \n",
    "* If there is any task you cannot solve by yourself, ask for help on Moodle or in a live session.\n",
    "\n",
    "\n",
    "### Task 1: Numeric Data Types \u2b50\n",
    "For each of the following data types, give an example for a Julia expression that evaluates to a value of this data type. Verify the correctness of your answer by calling the function `typeof` with the value your expression evaluates to as its argument.\n",
    "\n",
    "1. `Float64`"
   ]
  },
  {
   "cell_type": "code",
   "execution_count": null,
   "id": "cf96ac18",
   "metadata": {},
   "outputs": [],
   "source": [
    "# Start your code here:\n"
   ]
  },
  {
   "cell_type": "markdown",
   "id": "0866bf5b",
   "metadata": {},
   "source": [
    "2. `Int64`"
   ]
  },
  {
   "cell_type": "code",
   "execution_count": null,
   "id": "40956348",
   "metadata": {},
   "outputs": [],
   "source": [
    "# Start your code here:\n"
   ]
  },
  {
   "cell_type": "markdown",
   "id": "50705f46-734c-43f2-a837-eb07b1a9c187",
   "metadata": {},
   "source": [
    "3. `BigInt`"
   ]
  },
  {
   "cell_type": "code",
   "execution_count": null,
   "id": "a475ec4e",
   "metadata": {},
   "outputs": [],
   "source": [
    "# Start your code here:\n"
   ]
  },
  {
   "cell_type": "markdown",
   "id": "ac07b985",
   "metadata": {},
   "source": [
    "### Task 2: Maximum and Minimum values \u2b50\u2b50\u2b50\n",
    "\n",
    "Use [the official Julia documentation](https://docs.julialang.org/en/v1/manual/integers-and-floating-point-numbers/) to find two built-in functions that tell you the minimum and maximum values of a given type, respectively. Write a Julia expression that involves each of the functions."
   ]
  },
  {
   "cell_type": "code",
   "execution_count": null,
   "id": "185cb237",
   "metadata": {},
   "outputs": [],
   "source": [
    "# Start your code here:\n"
   ]
  },
  {
   "cell_type": "code",
   "execution_count": null,
   "id": "24aae766",
   "metadata": {},
   "outputs": [],
   "source": [
    "# Start your code here:\n"
   ]
  },
  {
   "cell_type": "markdown",
   "id": "a63e9f66-3490-4c54-b809-51f8680b3cec",
   "metadata": {},
   "source": [
    "### Task 3: Overflow \u2b50\n",
    "\n",
    "Give an example for a Julia expression in whose evaluation an `Int64` overflow occurs."
   ]
  },
  {
   "cell_type": "code",
   "execution_count": null,
   "id": "aee7259a",
   "metadata": {},
   "outputs": [],
   "source": [
    "# Start your code here:\n"
   ]
  },
  {
   "cell_type": "markdown",
   "id": "96210d37",
   "metadata": {},
   "source": [
    "###  Task 4: Special `Float64` values \u2b50\n",
    "\n",
    "For each of the following `Float64` values, give an example for a Julia expression which evaluates to that value.\n",
    "\n",
    "1. `NaN`"
   ]
  },
  {
   "cell_type": "code",
   "execution_count": null,
   "id": "a296ba16",
   "metadata": {},
   "outputs": [],
   "source": [
    "# Start your code here:\n"
   ]
  },
  {
   "cell_type": "markdown",
   "id": "827248e1",
   "metadata": {},
   "source": [
    "2. `-0.0`"
   ]
  },
  {
   "cell_type": "code",
   "execution_count": null,
   "id": "ca1a89d0",
   "metadata": {},
   "outputs": [],
   "source": [
    "# Start your code here:\n"
   ]
  },
  {
   "cell_type": "markdown",
   "id": "466cd089",
   "metadata": {},
   "source": [
    "3. `Inf`"
   ]
  },
  {
   "cell_type": "code",
   "execution_count": null,
   "id": "033f06d7",
   "metadata": {},
   "outputs": [],
   "source": [
    "# Start your code here:\n"
   ]
  },
  {
   "cell_type": "markdown",
   "id": "6ac8aa31",
   "metadata": {},
   "source": [
    "### Task 5: Precision of numeric data types  \u2b50\u2b50\n",
    "\n",
    "Which data type is more precise: `Int64` or `Float64`? Find arguments in favor of both possible answers."
   ]
  },
  {
   "cell_type": "markdown",
   "id": "4662cb20-963a-472f-ac65-9ed6e9df1303",
   "metadata": {},
   "source": [
    "### Task 6: UNIX time \u2b50\u2b50\n",
    "\n",
    "UNIX-like operating systems, like Linux, Android, and MacOS, represent the current date and time as the number of seconds that have passed since January 01., 1970, 00:00:00. On many computers, this is stored in a way that resembles the Julia data type `Int32`. `Int32` is just like `Int64`, except that it uses only 32 bits instead of 64 bits. The range of points in time that can be represented in this way is obviously limited. In what year does the latest representable point in time occur? Write Julia code to calculate the result.\n",
    "\n",
    "(Hint: Use the built-in function `floor` to round down to whole years.)"
   ]
  },
  {
   "cell_type": "code",
   "execution_count": null,
   "id": "25ca24eb",
   "metadata": {},
   "outputs": [],
   "source": [
    "# Start your code here:\n"
   ]
  },
  {
   "cell_type": "markdown",
   "id": "50e2d1ab",
   "metadata": {},
   "source": [
    "Solve the task again, but for a computer that uses `Int64` instead of `Int32` to store the timestamp."
   ]
  },
  {
   "cell_type": "code",
   "execution_count": null,
   "id": "0b09aed2",
   "metadata": {},
   "outputs": [],
   "source": [
    "# Start your code here:\n"
   ]
  },
  {
   "cell_type": "markdown",
   "id": "fc03f087",
   "metadata": {},
   "source": [
    "### Task 7: Boolean literals \u2b50\n",
    "\n",
    "List the two `Bool` literals."
   ]
  },
  {
   "cell_type": "code",
   "execution_count": null,
   "id": "cfe07ad2",
   "metadata": {},
   "outputs": [],
   "source": [
    "# Start your code here:\n"
   ]
  },
  {
   "cell_type": "code",
   "execution_count": null,
   "id": "20f2c11a",
   "metadata": {},
   "outputs": [],
   "source": [
    "# Start your code here:\n"
   ]
  },
  {
   "cell_type": "markdown",
   "id": "07f50653",
   "metadata": {},
   "source": [
    "### Task 8: Boolean expressions \u2b50\n",
    "\n",
    "Give three examples for a Julia expression that involves two numeric literals and evaluates to a `Bool` value."
   ]
  },
  {
   "cell_type": "code",
   "execution_count": null,
   "id": "34085daa",
   "metadata": {},
   "outputs": [],
   "source": [
    "# Start your code here:\n"
   ]
  },
  {
   "cell_type": "code",
   "execution_count": null,
   "id": "8d1fa4fa",
   "metadata": {},
   "outputs": [],
   "source": [
    "# Start your code here:\n"
   ]
  },
  {
   "cell_type": "code",
   "execution_count": null,
   "id": "bd9246c8",
   "metadata": {},
   "outputs": [],
   "source": [
    "# Start your code here:\n"
   ]
  },
  {
   "cell_type": "markdown",
   "id": "c0891664",
   "metadata": {},
   "source": [
    "### Task 9: Converting between Int and Bool \u2b50\u2b50\u2b50\n",
    "\n",
    "Use the [official Julia documentation](https://docs.julialang.org/en/v1/manual/conversion-and-promotion/) to find built-in functions with which you can convert a `Bool` value to it's `Int` counterpart, and vice versa. Write a line of Julia for each of the two use cases."
   ]
  },
  {
   "cell_type": "code",
   "execution_count": null,
   "id": "c560ca86",
   "metadata": {},
   "outputs": [],
   "source": [
    "# Start your code here:\n"
   ]
  },
  {
   "cell_type": "code",
   "execution_count": null,
   "id": "cc6c151a",
   "metadata": {},
   "outputs": [],
   "source": [
    "# Start your code here:\n"
   ]
  },
  {
   "cell_type": "markdown",
   "id": "0602f8b8",
   "metadata": {},
   "source": [
    "### Task 10: Comparing numeric values for equality \u2b50\n",
    "\n",
    "1. Suppose you want to compare two Julia variables for equality after a numeric value has been assigned to each variable. Can you use the equality operator `==` in any case? What do you have to consider, and why?"
   ]
  },
  {
   "cell_type": "code",
   "execution_count": null,
   "id": "4141ceeb",
   "metadata": {},
   "outputs": [],
   "source": [
    "x1 = 0.1 + 0.2\n",
    "x2 = 0.3\n",
    "x1 == x2"
   ]
  },
  {
   "cell_type": "markdown",
   "id": "66852354",
   "metadata": {},
   "source": [
    "### Task 11: Char literals \u2b50\n",
    "\n",
    "Give two examples for a `Char` literal."
   ]
  },
  {
   "cell_type": "code",
   "execution_count": null,
   "id": "c70e2e16",
   "metadata": {},
   "outputs": [],
   "source": [
    "# Start your code here:\n"
   ]
  },
  {
   "cell_type": "code",
   "execution_count": null,
   "id": "94a1d020",
   "metadata": {},
   "outputs": [],
   "source": [
    "# Start your code here:\n"
   ]
  },
  {
   "cell_type": "markdown",
   "id": "07a6c358",
   "metadata": {},
   "source": [
    "### Task 12: `String` literals \u2b50\n",
    "\n",
    "Give two examples for a `String` literal."
   ]
  },
  {
   "cell_type": "code",
   "execution_count": null,
   "id": "1d74f9dc",
   "metadata": {},
   "outputs": [],
   "source": [
    "# Start your code here:\n"
   ]
  },
  {
   "cell_type": "code",
   "execution_count": null,
   "id": "5b4a325e",
   "metadata": {},
   "outputs": [],
   "source": [
    "# Start your code here:\n"
   ]
  },
  {
   "cell_type": "markdown",
   "id": "889e1075",
   "metadata": {},
   "source": [
    "### Task 13: Escape sequences \u2b50\n",
    "\n",
    "Give two examples for a `String` literal involving an escape sequence."
   ]
  },
  {
   "cell_type": "code",
   "execution_count": null,
   "id": "c264d7b5",
   "metadata": {},
   "outputs": [],
   "source": [
    "# Start your code here:\n"
   ]
  },
  {
   "cell_type": "code",
   "execution_count": null,
   "id": "b3d25ed8",
   "metadata": {},
   "outputs": [],
   "source": [
    "# Start your code here:\n"
   ]
  },
  {
   "cell_type": "markdown",
   "id": "8dedf8d1",
   "metadata": {},
   "source": [
    "### Task 14: Concatenation \u2b50\n",
    "\n",
    "Consider the following `String` variables. Write a Julia expression that evaluates to the `String` value `\"programming is fun\"` (including the quotation marks). In your expression, do not use any literals."
   ]
  },
  {
   "cell_type": "code",
   "execution_count": null,
   "id": "e516200b",
   "metadata": {},
   "outputs": [],
   "source": [
    "string1 = \"programming\"\n",
    "string2 = \"is\"\n",
    "string3 = \"fun\"\n",
    "string4 = \" \"\n",
    "string5 = \"\\\"\""
   ]
  },
  {
   "cell_type": "code",
   "execution_count": null,
   "id": "1f894b94",
   "metadata": {},
   "outputs": [],
   "source": [
    "# Start your code here:\n"
   ]
  },
  {
   "cell_type": "markdown",
   "id": "75d93c23",
   "metadata": {},
   "source": [
    "### Task 15: `emphasize` \u2b50\u2b50\n",
    "\n",
    "Write a Julia function called `emphasize` that receives one String parameter called `word`, concatenates `word` and two exclamation marks, and returns the result. For example, the expression `emphasize(\"Hello\")` should evaluate to `\"Hello!!\"`, the expression `emphasize(\"I like trains!\"`) should evaluate to `\"I like trains!!!\"` and so on.\n",
    "\n",
    "Test your function by calling it with different arguments."
   ]
  },
  {
   "cell_type": "code",
   "execution_count": null,
   "id": "47222156",
   "metadata": {},
   "outputs": [],
   "source": [
    "# Start your code here:\n"
   ]
  },
  {
   "cell_type": "code",
   "execution_count": null,
   "id": "d84ccab1",
   "metadata": {},
   "outputs": [],
   "source": [
    "# Test your function here:\n"
   ]
  },
  {
   "cell_type": "markdown",
   "id": "ec2ee56b",
   "metadata": {},
   "source": [
    "### Task 16: Slicing \u2b50\u2b50\n",
    "Write three Julia functions called `first_letter`, `last_letter` and `middle`, respectively. All three should have one String parameter called `word`. You can expect that `word` has at least 3 characters. The functions should return the first letter of `word`, last letter of `word`, and `word` without the first and last letter, respectively.\n",
    "\n",
    "Test your functions."
   ]
  },
  {
   "cell_type": "code",
   "execution_count": null,
   "id": "5e1ba845",
   "metadata": {},
   "outputs": [],
   "source": [
    "# Start your code here:\n"
   ]
  },
  {
   "cell_type": "code",
   "execution_count": null,
   "id": "0a045785",
   "metadata": {},
   "outputs": [],
   "source": [
    "# Test your function here:\n"
   ]
  },
  {
   "cell_type": "code",
   "execution_count": null,
   "id": "4cb22652",
   "metadata": {},
   "outputs": [],
   "source": [
    "# Start your code here:\n"
   ]
  },
  {
   "cell_type": "code",
   "execution_count": null,
   "id": "8b2ec047",
   "metadata": {},
   "outputs": [],
   "source": [
    "# Test your function here:\n"
   ]
  },
  {
   "cell_type": "code",
   "execution_count": null,
   "id": "b7c2dc72",
   "metadata": {},
   "outputs": [],
   "source": [
    "# Start your code here:\n"
   ]
  },
  {
   "cell_type": "code",
   "execution_count": null,
   "id": "f0dd3391",
   "metadata": {},
   "outputs": [],
   "source": [
    "# Test your function here:\n"
   ]
  },
  {
   "cell_type": "markdown",
   "id": "43ec2520",
   "metadata": {},
   "source": [
    "### Task 17: Immutability \u2b50\u2b50\n",
    "\n",
    "From the lecture, you know that Strings are immutable in Julia. Is the following code a counterexample to this fact? Justify your answer."
   ]
  },
  {
   "cell_type": "code",
   "execution_count": null,
   "id": "92f6091f",
   "metadata": {},
   "outputs": [],
   "source": [
    "my_string = \"Hello, \"\n",
    "my_string = \"world!\""
   ]
  },
  {
   "cell_type": "markdown",
   "id": "6a31f2df",
   "metadata": {},
   "source": [
    "### Task 18: Vector literals \u2b50"
   ]
  },
  {
   "cell_type": "markdown",
   "id": "1c23a624",
   "metadata": {},
   "source": [
    "Give three examples for a `Vector` literal."
   ]
  },
  {
   "cell_type": "code",
   "execution_count": null,
   "id": "8b6fad92",
   "metadata": {},
   "outputs": [],
   "source": [
    "# Start your code here:\n"
   ]
  },
  {
   "cell_type": "code",
   "execution_count": null,
   "id": "b59820c5",
   "metadata": {},
   "outputs": [],
   "source": [
    "# Start your code here:\n"
   ]
  },
  {
   "cell_type": "code",
   "execution_count": null,
   "id": "f64ca258",
   "metadata": {},
   "outputs": [],
   "source": [
    "# Start your code here:\n"
   ]
  },
  {
   "cell_type": "markdown",
   "id": "2d4d0f94-e380-4734-b4a3-84b0d633643a",
   "metadata": {},
   "source": [
    "### Task 19: Vectors vs Strings \u2b50\u2b50\n",
    "\n",
    "The two next code cells' second lines contain identical Julia statements, both reading\n",
    "```julia\n",
    "sequence[2] = 'x'.\n",
    "```\n",
    "In the context of the first cell, the statement is legal, but in the context of the second cell, the statement is illegal and causes an error message. Explain why this is the case in one sentence."
   ]
  },
  {
   "cell_type": "code",
   "execution_count": null,
   "id": "e022f74e",
   "metadata": {},
   "outputs": [],
   "source": [
    "sequence = ['a', 'b', 'c']\n",
    "sequence[2] = 'x'\n",
    "println(sequence)"
   ]
  },
  {
   "cell_type": "code",
   "execution_count": null,
   "id": "d4ea9d60",
   "metadata": {},
   "outputs": [],
   "source": [
    "sequence = \"abc\"\n",
    "sequence[2] = 'x'\n",
    "println(sequence)"
   ]
  },
  {
   "cell_type": "markdown",
   "id": "de7bbb0a",
   "metadata": {},
   "source": [
    "### Task 20: Deduce the data type \u2b50\u2b50\n",
    "\n",
    "Suppose the following three code cells could be executed without any error being thrown. Deduce the type of the variables `a`, `b` and `c` from this information."
   ]
  },
  {
   "cell_type": "code",
   "execution_count": null,
   "id": "a2882345",
   "metadata": {},
   "outputs": [],
   "source": [
    "push!(a, 'y')"
   ]
  },
  {
   "cell_type": "code",
   "execution_count": null,
   "id": "711a387f",
   "metadata": {},
   "outputs": [],
   "source": [
    "print(b[3:5] * b[6:7])"
   ]
  },
  {
   "cell_type": "code",
   "execution_count": null,
   "id": "85244c2a",
   "metadata": {},
   "outputs": [],
   "source": [
    "c[3] = 'x'\n",
    "print(c[5:10])"
   ]
  }
 ],
 "metadata": {
  "kernelspec": {
   "display_name": "Julia 1.8.2",
   "language": "julia",
   "name": "julia-1.8"
  },
  "language_info": {
   "file_extension": ".jl",
   "mimetype": "application/julia",
   "name": "julia",
   "version": "1.8.2"
  }
 },
 "nbformat": 4,
 "nbformat_minor": 5
}