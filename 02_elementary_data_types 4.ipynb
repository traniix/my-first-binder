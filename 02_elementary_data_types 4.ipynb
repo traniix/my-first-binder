{
 "cells": [
  {
   "cell_type": "markdown",
   "metadata": {
    "slideshow": {
     "slide_type": "slide"
    }
   },
   "source": [
    "<img src=\"https://www.dpo.rwth-aachen.de/global/show_picture_asis.asp?id=aaaaaaaabftpwfx\" width=200 height=200 align=\"left\" /> <img src=\"https://www.dpo.rwth-aachen.de/global/show_picture_asis.asp?id=aaaaaaaabftpxde\" width=200 height=200 align=\"right\" />"
   ]
  },
  {
   "cell_type": "markdown",
   "metadata": {
    "slideshow": {
     "slide_type": "fragment"
    }
   },
   "source": [
    "<h1><center> Introduction to Programming for Business Analytics </center></h1>  \n",
    "\n",
    "<p style=\"text-align:left;\">\n",
    "    Murwan Siddig, Stefan Pilot\n",
    "</p>\n",
    "<a href=\"mailto:ipba@dpo.rwth-aachen.de\">ipba@dpo.rwth-aachen.de</a> <br>"
   ]
  },
  {
   "cell_type": "markdown",
   "metadata": {
    "slideshow": {
     "slide_type": "fragment"
    }
   },
   "source": [
    "## Lecture 2: Elementary Data Types\n",
    "\n",
    "\n",
    "### Outline\n",
    "\n",
    "- Numeric Data Types: Integers and Floating-point Numbers.\n",
    "- Boolean values.\n",
    "- Strings.\n",
    "- Vectors."
   ]
  },
  {
   "cell_type": "markdown",
   "metadata": {
    "slideshow": {
     "slide_type": "slide"
    }
   },
   "source": [
    "---\n",
    "### Data Types\n",
    "- In Julia, every value has a data type.\n",
    "- A value's data type determines how we can use the value.\n",
    "- In this lecture, we are going to discuss six elementary data types in Julia:\n",
    "    1. **`Int64`:** stores (positive and negative) *whole* numbers within a *limited range*.\n",
    "    2. **`BigInt`:** stores (positive and negative) *whole* numbers, even those *outside* of `Int64` range.\n",
    "    3. **`Float64`:** stores (positive and negative) numbers that have potential *decimal* places.\n",
    "    4. **`Bool`:** stores two possible logical (*Boolean*) values: `true` and `false`.\n",
    "    5. **`String`:** a set of characters for representing *text*.\n",
    "    6. **`Vector`:** a data *container* that may contain more than one value.\n",
    "- To see an example of each data type we can use the Julia function `typeof`.\n",
    "    - The Julia function `typeof` has one parameter and returns the data type of its argument."
   ]
  },
  {
   "cell_type": "code",
   "execution_count": 1,
   "metadata": {
    "slideshow": {
     "slide_type": "subslide"
    }
   },
   "outputs": [
    {
     "data": {
      "text/plain": [
       "Int64"
      ]
     },
     "execution_count": 1,
     "metadata": {},
     "output_type": "execute_result"
    }
   ],
   "source": [
    "typeof(1)"
   ]
  },
  {
   "cell_type": "code",
   "execution_count": 2,
   "metadata": {
    "slideshow": {
     "slide_type": "subslide"
    }
   },
   "outputs": [
    {
     "data": {
      "text/plain": [
       "BigInt"
      ]
     },
     "execution_count": 2,
     "metadata": {},
     "output_type": "execute_result"
    }
   ],
   "source": [
    "typeof(999999999999999999999999999999999999999)"
   ]
  },
  {
   "cell_type": "code",
   "execution_count": 3,
   "metadata": {
    "slideshow": {
     "slide_type": "subslide"
    }
   },
   "outputs": [
    {
     "data": {
      "text/plain": [
       "Float64"
      ]
     },
     "execution_count": 3,
     "metadata": {},
     "output_type": "execute_result"
    }
   ],
   "source": [
    "typeof(3.14)"
   ]
  },
  {
   "cell_type": "code",
   "execution_count": 4,
   "metadata": {
    "slideshow": {
     "slide_type": "subslide"
    }
   },
   "outputs": [
    {
     "data": {
      "text/plain": [
       "Bool"
      ]
     },
     "execution_count": 4,
     "metadata": {},
     "output_type": "execute_result"
    }
   ],
   "source": [
    "typeof(true)"
   ]
  },
  {
   "cell_type": "code",
   "execution_count": 5,
   "metadata": {
    "slideshow": {
     "slide_type": "subslide"
    }
   },
   "outputs": [
    {
     "data": {
      "text/plain": [
       "String"
      ]
     },
     "execution_count": 5,
     "metadata": {},
     "output_type": "execute_result"
    }
   ],
   "source": [
    "typeof(\"IPBA\")"
   ]
  },
  {
   "cell_type": "code",
   "execution_count": 6,
   "metadata": {
    "slideshow": {
     "slide_type": "subslide"
    }
   },
   "outputs": [
    {
     "data": {
      "text/plain": [
       "Vector{Any}\u001b[90m (alias for \u001b[39m\u001b[90mArray{Any, 1}\u001b[39m\u001b[90m)\u001b[39m"
      ]
     },
     "execution_count": 6,
     "metadata": {},
     "output_type": "execute_result"
    }
   ],
   "source": [
    "typeof([1, 999999999999999999999999999999999999999, 3.14, true, \"IPBA\", []])"
   ]
  },
  {
   "cell_type": "code",
   "execution_count": 7,
   "metadata": {},
   "outputs": [
    {
     "data": {
      "text/plain": [
       "4-element Vector{Any}:\n",
       " BigFloat\n",
       " Float16\n",
       " Float32\n",
       " Float64"
      ]
     },
     "execution_count": 7,
     "metadata": {},
     "output_type": "execute_result"
    }
   ],
   "source": [
    "subtypes(AbstractFloat)"
   ]
  },
  {
   "cell_type": "markdown",
   "metadata": {},
   "source": [
    "---\n",
    "### Why do we need multiple numeric data types?\n",
    "\n",
    "- **Question**: Why are there different data types for numbers (e.g., `Int64`, `BigInt`, and `Float64`)?\n",
    "- **Answer**: Each numeric data type has its pros and cons $\\implies$ no single numeric data type is suitable for using in every situation.  \n",
    "\n",
    "Let's elaborate:\n",
    "- The computer's memory is organized into a sequence of elements, each of these elements is called a **bit**.\n",
    "    - A *bit* can have only two states: `0` or `1`.\n",
    "- Since the computer memory is limited, every information that a computer can process must be represented as a **finite** sequence of bits.\n",
    "\n",
    "$\\implies$ Different numeric data types are designed to address different aspects of this *limitation*.\n",
    "\n",
    "- **Note:** \n",
    "    - Bits are grouped into what is referred to as *words*, and in most computers, *1 word = 64 bit*.\n",
    "    - `Int64`, `BigInt`, and `Float64` are not the only numeric data types in Julia."
   ]
  },
  {
   "cell_type": "markdown",
   "metadata": {},
   "source": [
    "----\n",
    "### Representing Integers using `Int64`\n",
    "\n",
    "- A value of type `Int64` uses one *64-bit word* per number.\n",
    "- Different permutations (of `0` and `1`) in the 64 positions represent different numbers.\n",
    "    - The following table shows examples of how different permutations of `0` and `1` represent different numbers in `Int64`.\n",
    "\n",
    "|Number | Representation in `Int64`|\n",
    "|:------|:-------------------------|\n",
    "|$0$    |`0000000000000000000000000000000000000000000000000000000000000000`|\n",
    "|$1$    |`0000000000000000000000000000000000000000000000000000000000000001`|\n",
    "|$2$    |`0000000000000000000000000000000000000000000000000000000000000010`|\n",
    "|$3$    |`0000000000000000000000000000000000000000000000000000000000000011`|\n",
    "|$\\dots$|$\\dots$|\n",
    "|$\\dots$|$\\dots$|\n",
    "|$2^{63}-1$|`0111111111111111111111111111111111111111111111111111111111111111`|\n",
    "|$-2^{63}$ |`1000000000000000000000000000000000000000000000000000000000000000`|"
   ]
  },
  {
   "cell_type": "markdown",
   "metadata": {},
   "source": [
    "The Julia function `bitstring` has one parameter and returns the bit representation of its argument."
   ]
  },
  {
   "cell_type": "code",
   "execution_count": 8,
   "metadata": {},
   "outputs": [
    {
     "name": "stdout",
     "output_type": "stream",
     "text": [
      "0000000000000000000000000000000000000000000000000000000000000000\n",
      "0000000000000000000000000000000000000000000000000000000000000001\n",
      "0000000000000000000000000000000000000000000000000000000000000010\n",
      "0000000000000000000000000000000000000000000000000000000000000011\n",
      "0111111111111111111111111111111111111111111111111111111111111111\n",
      "1000000000000000000000000000000000000000000000000000000000000000\n"
     ]
    }
   ],
   "source": [
    "println(bitstring(0))\n",
    "println(bitstring(1))\n",
    "println(bitstring(2))\n",
    "println(bitstring(3))\n",
    "println(bitstring(2^63 - 1))\n",
    "println(bitstring(-2^63))"
   ]
  },
  {
   "attachments": {
    "signed.png": {
     "image/png": "[encoded data removed]"
    }
   },
   "cell_type": "markdown",
   "metadata": {},
   "source": [
    "---\n",
    "### Wraparound Behavior\n",
    "![signed.png](attachment:signed.png)\n",
    "\n",
    "- When adding to the *highest* representable `Int64` number ($2^{63}-1$) the computation *wraps around*."
   ]
  },
  {
   "cell_type": "code",
   "execution_count": 9,
   "metadata": {},
   "outputs": [
    {
     "name": "stdout",
     "output_type": "stream",
     "text": [
      "9223372036854775807\n",
      "-9223372036854775808\n"
     ]
    }
   ],
   "source": [
    "println(2^63-1)\n",
    "println(2^63)"
   ]
  },
  {
   "cell_type": "markdown",
   "metadata": {},
   "source": [
    "- When subtracting from the *lowest* representable `Int64` number ($-2^{63}$) the computation *wraps around*."
   ]
  },
  {
   "cell_type": "code",
   "execution_count": 10,
   "metadata": {},
   "outputs": [
    {
     "name": "stdout",
     "output_type": "stream",
     "text": [
      "-9223372036854775808\n",
      "9223372036854775807\n"
     ]
    }
   ],
   "source": [
    "println(-2^63)\n",
    "println(-2^63 - 1)"
   ]
  },
  {
   "cell_type": "markdown",
   "metadata": {},
   "source": [
    "**Note:** A wraparound behavior is also known as *overflow*."
   ]
  },
  {
   "cell_type": "markdown",
   "metadata": {},
   "source": [
    "---\n",
    "### Representing Large Integers using `BigInt`\n",
    "- A value of type `BigInt` can represent any number, using as many words as necessary.\n",
    "    - The number of words is chosen *behind the scenes*.\n",
    "    - Only limit: Size of computer's memory."
   ]
  },
  {
   "cell_type": "code",
   "execution_count": 11,
   "metadata": {},
   "outputs": [
    {
     "data": {
      "text/plain": [
       "340282366920938463463374607431768211456"
      ]
     },
     "execution_count": 11,
     "metadata": {},
     "output_type": "execute_result"
    }
   ],
   "source": [
    "BigInt(2)^128"
   ]
  },
  {
   "cell_type": "markdown",
   "metadata": {},
   "source": [
    "---\n",
    "### Representing Numbers using `Float64`\n",
    "\n",
    "- `Float64` uses one 64-bit word per number.\n",
    "- To facilitate representing a wide range of numbers, `Float64` uses *scientific notation* to approximate very small and large numbers. \n",
    "- Using approximation leads `Float64` to become prone to inaccuracy. "
   ]
  },
  {
   "cell_type": "code",
   "execution_count": 12,
   "metadata": {},
   "outputs": [
    {
     "data": {
      "text/plain": [
       "0.30000000000000004"
      ]
     },
     "execution_count": 12,
     "metadata": {},
     "output_type": "execute_result"
    }
   ],
   "source": [
    "0.1 + 0.2"
   ]
  },
  {
   "cell_type": "markdown",
   "metadata": {},
   "source": [
    "**Question:** If `Float64` is inaccurate, is it still useful?<br>\n",
    "**Answer:** Yes, the precision is sufficient for most practical applications.\n",
    "\n",
    "**Recommendation:** \n",
    "- Whenever it is possible to use `Int64`, use `Int64`.\n",
    "- If you must use `Float64`, take it's inaccuracy into account.\n",
    "\n",
    "**Question:** How do we take `Float64`'s inaccuracy into account?<br>\n",
    "**Answer:** One way is to use Julia the built-in function `isapprox` instead."
   ]
  },
  {
   "cell_type": "code",
   "execution_count": 13,
   "metadata": {},
   "outputs": [
    {
     "data": {
      "text/plain": [
       "true"
      ]
     },
     "execution_count": 13,
     "metadata": {},
     "output_type": "execute_result"
    }
   ],
   "source": [
    "isapprox(0.1+0.2,0.3)"
   ]
  },
  {
   "cell_type": "markdown",
   "metadata": {},
   "source": [
    "---\n",
    "### `Float64` has special values: \n",
    " - The number `0.0` is represented in two ways:"
   ]
  },
  {
   "cell_type": "code",
   "execution_count": 14,
   "metadata": {},
   "outputs": [
    {
     "name": "stdout",
     "output_type": "stream",
     "text": [
      "0.0\n",
      "-0.0\n"
     ]
    }
   ],
   "source": [
    "println(1.0 * 0.0)\n",
    "println(-1.0 * 0.0)"
   ]
  },
  {
   "cell_type": "markdown",
   "metadata": {},
   "source": [
    "- $\\infty$, $-\\infty$ are represented as `Inf` and `-Inf`, respectively:"
   ]
  },
  {
   "cell_type": "code",
   "execution_count": 15,
   "metadata": {},
   "outputs": [
    {
     "name": "stdout",
     "output_type": "stream",
     "text": [
      "Inf\n",
      "-Inf\n"
     ]
    }
   ],
   "source": [
    "println(2.0^1024)\n",
    "println(-2.0^1024)"
   ]
  },
  {
   "cell_type": "markdown",
   "metadata": {},
   "source": [
    "- Undefined results (e.g., result of dividing by $0$) are represented as a value called `NaN` (*Not a Number*):"
   ]
  },
  {
   "cell_type": "code",
   "execution_count": 16,
   "metadata": {},
   "outputs": [
    {
     "data": {
      "text/plain": [
       "NaN"
      ]
     },
     "execution_count": 16,
     "metadata": {},
     "output_type": "execute_result"
    }
   ],
   "source": [
    "0/0"
   ]
  },
  {
   "cell_type": "markdown",
   "metadata": {},
   "source": [
    "---\n",
    "### Overview on `Int64`, `BigInt`, and `Float64`\n",
    "\n",
    "|                          |  | **`Int64`** |  | **`BigInt`** |  | **`Float64`** |\n",
    "|:-------------------------|:-|:------------|:-|:-------------|:-|:--------------|\n",
    "|**Type of numbers**       |  |Whole        |  | Whole        |  | Whole + fractional|\n",
    "|**Range**                 |  | Between $-2^{63}$ and $2^{63}-1$|  | Every negative or positive integer| | Wide range of real numbers|\n",
    "|**Precise**               |  |Yes          |  | Yes          |  | No            |\n",
    "|**Efficient calculation** |  |Yes          |  | No           |  | Yes           |  \n",
    "\n"
   ]
  },
  {
   "cell_type": "markdown",
   "metadata": {},
   "source": [
    "---\n",
    "### The `Bool` Data Type and Comparison Operators\n",
    "**Question:** When do we need to take `Float64`'s inaccuracy into account?<br>\n",
    "**Answer:** When comparing two numbers for equality.    \n",
    "\n",
    "**Question:** How do we compare two numbers for equality?<br>\n",
    "**Answer:** We can use a the *equality* operator `==`.\n",
    "\n",
    "- The equality operator `==` is a **comparison** operator (like `>` and `<`), it compares two operands and produces:\n",
    "    - **false** $\\rightarrow$ if the statement is incorrect.\n",
    "    - **true** $\\rightarrow$ if the statement is correct."
   ]
  },
  {
   "cell_type": "code",
   "execution_count": 17,
   "metadata": {},
   "outputs": [
    {
     "name": "stdout",
     "output_type": "stream",
     "text": [
      "true\n",
      "false\n"
     ]
    }
   ],
   "source": [
    "println(-0.0 == 0.0)\n",
    "println(0.1 + 0.2 == 0.3)"
   ]
  },
  {
   "cell_type": "markdown",
   "metadata": {},
   "source": [
    "- Comparison operators are binary operators.\n",
    "- Below is a list of the common comparision operators:\n",
    "\n",
    "|Name                 | | Maths symbol| |Julia syntax| |Example       |                     |\n",
    "|:--------------------|-|:------------|-|:-----------|-|:-------------|:--------------------|\n",
    "|Equality             | |$=$          | |`==`        | |`-0.0 == 0.0` |$\\rightarrow$ `true` |\n",
    "|Inequality           | |$\\neq$       | |`!=`        | |`-0.0 != 0.0` |$\\rightarrow$ `false`|\n",
    "|Less than            | |$<$          | |`<`         | |`-0.0 < 0.0`  |$\\rightarrow$ `false`|\n",
    "|Less than or equal   | |$\\leq$       | |`<=`        | |`-0.0 <= 0.0` |$\\rightarrow$ `true` |\n",
    "|Greater than         | |$>$          | |`>`         | |`-0.0 > 0.0`  |$\\rightarrow$ `false`|\n",
    "|Greater than or equal| |$\\geq$       | |`>=`        | |`-0.0 >= 0.0` |$\\rightarrow$ `true` |\n",
    "\n",
    "\n",
    "- Comparison operators introduce two things:\n",
    "    - A **boolean expression** (e.g., `-0.0 == 0.0`).\n",
    "    - The data type `Bool` which has two literals: `false` and `true`.\n",
    "\n",
    "\n",
    "- **Recall:** Every program can be broken into: input, output, maths, conditional execution, and repetition.\n",
    "    - Boolean expressions play a vital role in the *conditional execution* and *repetition* parts of a program."
   ]
  },
  {
   "cell_type": "markdown",
   "metadata": {},
   "source": [
    "---\n",
    "### List of Common Comparison Operators\n",
    "\n",
    "|Name                 | | Maths symbol| |Julia syntax| |Example       |                     |\n",
    "|:--------------------|-|:------------|-|:-----------|-|:-------------|:--------------------|\n",
    "|Equality             | |$=$          | |`==`        | |`-0.0 == 0.0` |$\\rightarrow$ `true` |\n",
    "|Inequality           | |$\\neq$       | |`!=`        | |`-0.0 != 0.0` |$\\rightarrow$ `false`|\n",
    "|Less than            | |$<$          | |`<`         | |`-0.0 < 0.0`  |$\\rightarrow$ `false`|\n",
    "|Less than or equal   | |$\\leq$       | |`<=`        | |`-0.0 <= 0.0` |$\\rightarrow$ `true` |\n",
    "|Greater than         | |$>$          | |`>`         | |`-0.0 > 0.0`  |$\\rightarrow$ `false`|\n",
    "|Greater than or equal| |$\\geq$       | |`>=`        | |`-0.0 >= 0.0` |$\\rightarrow$ `true` |\n"
   ]
  },
  {
   "cell_type": "markdown",
   "metadata": {},
   "source": [
    " ---\n",
    "### Data Container\n",
    "\n",
    "- All data types we have introduced so far are primitive $\\implies$ cannot be subdivided further into other elements of (the same or different) data types.\n",
    "- A **data container** is a data type that may contain more values $\\implies$ could be subdivided further into other elements of (the same or different) data types.\n",
    "\n",
    "Most important container data types: `String` and `Vector`."
   ]
  },
  {
   "cell_type": "markdown",
   "metadata": {},
   "source": [
    "---\n",
    "### `String`: Container of `Char` Values\n",
    "\n",
    "- A `Char` (short for character) is a data type that represents a single *glyph*, whitespace, and special control values.\n",
    "    - **Glyphs** can be any letter, digit, or symbol.\n",
    "    \n",
    "- To define a `Char` value in Julia we use single quotation delimeters `''`.\n",
    "\n",
    "**Examples:**"
   ]
  },
  {
   "cell_type": "code",
   "execution_count": 18,
   "metadata": {},
   "outputs": [
    {
     "data": {
      "text/plain": [
       "'A': ASCII/Unicode U+0041 (category Lu: Letter, uppercase)"
      ]
     },
     "execution_count": 18,
     "metadata": {},
     "output_type": "execute_result"
    }
   ],
   "source": [
    "'A'"
   ]
  },
  {
   "cell_type": "code",
   "execution_count": 19,
   "metadata": {},
   "outputs": [
    {
     "data": {
      "text/plain": [
       "Char"
      ]
     },
     "execution_count": 19,
     "metadata": {},
     "output_type": "execute_result"
    }
   ],
   "source": [
    "typeof('A')"
   ]
  },
  {
   "cell_type": "code",
   "execution_count": 20,
   "metadata": {},
   "outputs": [
    {
     "data": {
      "text/plain": [
       "'5': ASCII/Unicode U+0035 (category Nd: Number, decimal digit)"
      ]
     },
     "execution_count": 20,
     "metadata": {},
     "output_type": "execute_result"
    }
   ],
   "source": [
    "'5'"
   ]
  },
  {
   "cell_type": "code",
   "execution_count": 21,
   "metadata": {},
   "outputs": [
    {
     "data": {
      "text/plain": [
       "Char"
      ]
     },
     "execution_count": 21,
     "metadata": {},
     "output_type": "execute_result"
    }
   ],
   "source": [
    "typeof('5')"
   ]
  },
  {
   "cell_type": "code",
   "execution_count": 22,
   "metadata": {},
   "outputs": [
    {
     "data": {
      "text/plain": [
       "' ': ASCII/Unicode U+0020 (category Zs: Separator, space)"
      ]
     },
     "execution_count": 22,
     "metadata": {},
     "output_type": "execute_result"
    }
   ],
   "source": [
    "' ' "
   ]
  },
  {
   "cell_type": "code",
   "execution_count": 23,
   "metadata": {},
   "outputs": [
    {
     "data": {
      "text/plain": [
       "Char"
      ]
     },
     "execution_count": 23,
     "metadata": {},
     "output_type": "execute_result"
    }
   ],
   "source": [
    "typeof(' ')"
   ]
  },
  {
   "cell_type": "markdown",
   "metadata": {},
   "source": [
    "- We can also type **unicode characters** can be entered via *tab completion* of LaTeX-like abbreviations.\n",
    "- For example, to get the greek letter $\\pi$ we write `\\pi` and press and hold `TAB (⇥)`"
   ]
  },
  {
   "cell_type": "code",
   "execution_count": 24,
   "metadata": {
    "scrolled": true
   },
   "outputs": [
    {
     "data": {
      "text/plain": [
       "'π': Unicode U+03C0 (category Ll: Letter, lowercase)"
      ]
     },
     "execution_count": 24,
     "metadata": {},
     "output_type": "execute_result"
    }
   ],
   "source": [
    "'π'"
   ]
  },
  {
   "cell_type": "code",
   "execution_count": 25,
   "metadata": {},
   "outputs": [
    {
     "data": {
      "text/plain": [
       "Char"
      ]
     },
     "execution_count": 25,
     "metadata": {},
     "output_type": "execute_result"
    }
   ],
   "source": [
    "typeof('π')"
   ]
  },
  {
   "cell_type": "markdown",
   "metadata": {},
   "source": [
    "- A `String` is a container data type that contains a sequence of `Char` values.<br>\n",
    "$\\implies$ `String` can represent arbitrary pieces of text.\n",
    "\n",
    "- A `String` literal is the string's value enclosed between delimiters `\"\"`.\n",
    "\n",
    "**Examples:**"
   ]
  },
  {
   "cell_type": "code",
   "execution_count": 26,
   "metadata": {},
   "outputs": [
    {
     "data": {
      "text/plain": [
       "\"Introduction to Programming for Business Analytics\""
      ]
     },
     "execution_count": 26,
     "metadata": {},
     "output_type": "execute_result"
    }
   ],
   "source": [
    "\"Introduction to Programming for Business Analytics\""
   ]
  },
  {
   "cell_type": "code",
   "execution_count": 27,
   "metadata": {},
   "outputs": [
    {
     "data": {
      "text/plain": [
       "String"
      ]
     },
     "execution_count": 27,
     "metadata": {},
     "output_type": "execute_result"
    }
   ],
   "source": [
    "typeof(\"Introduction to Programming for Business Analytics\")"
   ]
  },
  {
   "cell_type": "markdown",
   "metadata": {},
   "source": [
    "---\n",
    "### Escape Sequences\n",
    "\n",
    "- The two `\"` delimeters are not part of the `String`'s value.\n",
    "\n",
    "- To have `\"` as part of the string, we must *escape* them.\n",
    "    - Julia's *escape character* is the backslash `\\`.\n",
    "    \n",
    "**Examples:**"
   ]
  },
  {
   "cell_type": "code",
   "execution_count": 28,
   "metadata": {},
   "outputs": [
    {
     "name": "stdout",
     "output_type": "stream",
     "text": [
      "I am a String that contains \" as a character.\n",
      "I am a String that contains \\ as a character.\n"
     ]
    }
   ],
   "source": [
    "println(\"I am a String that contains \\\" as a character.\")\n",
    "println(\"I am a String that contains \\\\ as a character.\")"
   ]
  },
  {
   "cell_type": "code",
   "execution_count": 29,
   "metadata": {},
   "outputs": [
    {
     "name": "stdout",
     "output_type": "stream",
     "text": [
      "In the Julia code of the above examples, \\\"\n",
      "and \\\\ are examples of what is known as an\n",
      "escape sequence.\n"
     ]
    }
   ],
   "source": [
    "println(\"In the Julia code of the above examples, \\\\\\\"\")\n",
    "println(\"and \\\\\\\\ are examples of what is known as an\")\n",
    "println(\"escape sequence.\")"
   ]
  },
  {
   "cell_type": "code",
   "execution_count": 30,
   "metadata": {},
   "outputs": [
    {
     "name": "stdout",
     "output_type": "stream",
     "text": [
      "We can also use escape sequences to repre-\n",
      "sent special values such as the linebreak or\n",
      "the tab whitespace '\t'.\n"
     ]
    }
   ],
   "source": [
    "print(\"We can also use escape sequences to repre-\\nsent \")\n",
    "print(\"special values such as the linebreak or\\nthe tab \")\n",
    "print(\"whitespace '\\t'.\\n\")"
   ]
  },
  {
   "cell_type": "markdown",
   "metadata": {},
   "source": [
    "---\n",
    "### Converting to `String`\n",
    "\n",
    "- We can use the built-in function `string` to convert any Julia value to a `String`."
   ]
  },
  {
   "cell_type": "code",
   "execution_count": 31,
   "metadata": {},
   "outputs": [
    {
     "data": {
      "text/plain": [
       "\"1\""
      ]
     },
     "execution_count": 31,
     "metadata": {},
     "output_type": "execute_result"
    }
   ],
   "source": [
    "# converting an Int64 to a String\n",
    "string(1)"
   ]
  },
  {
   "cell_type": "code",
   "execution_count": 32,
   "metadata": {},
   "outputs": [
    {
     "data": {
      "text/plain": [
       "\"340282366920938463463374607431768211456\""
      ]
     },
     "execution_count": 32,
     "metadata": {},
     "output_type": "execute_result"
    }
   ],
   "source": [
    "# converting a BigInt to a String\n",
    "string(BigInt(2)^128)"
   ]
  },
  {
   "cell_type": "code",
   "execution_count": 33,
   "metadata": {},
   "outputs": [
    {
     "data": {
      "text/plain": [
       "\"3.14\""
      ]
     },
     "execution_count": 33,
     "metadata": {},
     "output_type": "execute_result"
    }
   ],
   "source": [
    "# converting a Float64 to a String\n",
    "string(3.14)"
   ]
  },
  {
   "cell_type": "code",
   "execution_count": 34,
   "metadata": {},
   "outputs": [
    {
     "data": {
      "text/plain": [
       "\"true\""
      ]
     },
     "execution_count": 34,
     "metadata": {},
     "output_type": "execute_result"
    }
   ],
   "source": [
    "# converting a Bool to a String\n",
    "string(-0.0 == 0.0)"
   ]
  },
  {
   "cell_type": "markdown",
   "metadata": {},
   "source": [
    "---\n",
    "### Converting from `String`\n",
    "- We can also convert some `String`s into other data types using the built-in function `parse`."
   ]
  },
  {
   "cell_type": "code",
   "execution_count": 35,
   "metadata": {},
   "outputs": [
    {
     "data": {
      "text/plain": [
       "1"
      ]
     },
     "execution_count": 35,
     "metadata": {},
     "output_type": "execute_result"
    }
   ],
   "source": [
    "parse(Int64, \"1\")"
   ]
  },
  {
   "cell_type": "code",
   "execution_count": 36,
   "metadata": {},
   "outputs": [
    {
     "data": {
      "text/plain": [
       "340282366920938463463374607431768211456"
      ]
     },
     "execution_count": 36,
     "metadata": {},
     "output_type": "execute_result"
    }
   ],
   "source": [
    "parse(BigInt,\"340282366920938463463374607431768211456\")"
   ]
  },
  {
   "cell_type": "code",
   "execution_count": 37,
   "metadata": {},
   "outputs": [
    {
     "data": {
      "text/plain": [
       "3.14"
      ]
     },
     "execution_count": 37,
     "metadata": {},
     "output_type": "execute_result"
    }
   ],
   "source": [
    "parse(Float64, \"3.14\")"
   ]
  },
  {
   "cell_type": "code",
   "execution_count": 38,
   "metadata": {},
   "outputs": [
    {
     "data": {
      "text/plain": [
       "false"
      ]
     },
     "execution_count": 38,
     "metadata": {},
     "output_type": "execute_result"
    }
   ],
   "source": [
    "parse(Bool, \"false\")"
   ]
  },
  {
   "cell_type": "markdown",
   "metadata": {},
   "source": [
    "---\n",
    "### `String` and Print Statements\n",
    "\n",
    "- `String` values are very useful inside of a print statement.\n",
    "- In the following example, we include a `String` value in the print statement to display what is being calculated and the result of the calculation in the same line."
   ]
  },
  {
   "cell_type": "code",
   "execution_count": 39,
   "metadata": {},
   "outputs": [
    {
     "name": "stdout",
     "output_type": "stream",
     "text": [
      "x+y= 4\n"
     ]
    }
   ],
   "source": [
    "x = 3;\n",
    "y = 1;\n",
    "println(\"x+y= \", x+y)"
   ]
  },
  {
   "cell_type": "markdown",
   "metadata": {},
   "source": [
    "**Note:**\n",
    "- The comma `,` between the string `\"x+y= \"` and the algebraic expression `x+y` is a delimiter.\n",
    "- We can have as many string representation and algebraic expression pair as we want. "
   ]
  },
  {
   "cell_type": "code",
   "execution_count": 40,
   "metadata": {},
   "outputs": [
    {
     "name": "stdout",
     "output_type": "stream",
     "text": [
      "x+y= 4 and x-y= 2\n"
     ]
    }
   ],
   "source": [
    "println(\"x+y= \", x+y, \" and \", \"x-y= \", x-y)"
   ]
  },
  {
   "cell_type": "markdown",
   "metadata": {},
   "source": [
    "---\n",
    "### `Vector`: Container of Data Types\n",
    "\n",
    "- A vector is a data *container* that may contain more than one value of any data types.\n",
    "- Vectors are also very often referred to as **Arrays**.\n",
    "    - In many programming languages, what is known in Julia as a `Vector` is called an *Array*.\n",
    "    - In Julia, a `Vector` is a special case of the data type `Array`.\n",
    "    - We will discuss the Julia data type `Array` later, in another lecture.\n",
    "- A vector literal is a comma-separated list of values inside the delimiters `[` and `]`.\n",
    "\n",
    "**Examples:**"
   ]
  },
  {
   "cell_type": "code",
   "execution_count": 41,
   "metadata": {},
   "outputs": [
    {
     "data": {
      "text/plain": [
       "Any[]"
      ]
     },
     "execution_count": 41,
     "metadata": {},
     "output_type": "execute_result"
    }
   ],
   "source": [
    "# an empty vector (array) of type Any\n",
    "[]"
   ]
  },
  {
   "cell_type": "code",
   "execution_count": 42,
   "metadata": {
    "scrolled": true
   },
   "outputs": [
    {
     "data": {
      "text/plain": [
       "3-element Vector{Int64}:\n",
       " 1\n",
       " 2\n",
       " 3"
      ]
     },
     "execution_count": 42,
     "metadata": {},
     "output_type": "execute_result"
    }
   ],
   "source": [
    "# a vector (array) containing 3 elements of the same type (Int64)\n",
    "example_vector = [1, 2, 3]"
   ]
  },
  {
   "cell_type": "code",
   "execution_count": 43,
   "metadata": {
    "scrolled": true
   },
   "outputs": [
    {
     "data": {
      "text/plain": [
       "4-element Vector{Any}:\n",
       " 1.0\n",
       "  [1, 2, 3]\n",
       "  \"Hello!\"\n",
       "  Any[]"
      ]
     },
     "execution_count": 43,
     "metadata": {},
     "output_type": "execute_result"
    }
   ],
   "source": [
    "# a vector (array) containing 4 elements of different types (Any)\n",
    "[1.0, example_vector, \"Hello!\", []]"
   ]
  },
  {
   "cell_type": "markdown",
   "metadata": {},
   "source": [
    "---\n",
    "### The Dot `.` Syntax\n",
    "\n",
    "For every *binary* operator like `+`, there is a corresponding **dot operator** `.+` that is automatically defined to perform (broadcast) `+` *element-by-element* on vectors.\n",
    "\n",
    "**Examples:**"
   ]
  },
  {
   "cell_type": "code",
   "execution_count": 44,
   "metadata": {},
   "outputs": [],
   "source": [
    "data1 = [1, 2, 3];\n",
    "data2 = [3, 2, 1];"
   ]
  },
  {
   "cell_type": "markdown",
   "metadata": {},
   "source": [
    "- **Scalar** addition, subtraction, multiplication, division and exponentiation:"
   ]
  },
  {
   "cell_type": "code",
   "execution_count": 45,
   "metadata": {},
   "outputs": [
    {
     "name": "stdout",
     "output_type": "stream",
     "text": [
      "data1 .+ 2 = [3, 4, 5]\n",
      "data1 .- 2 = [-1, 0, 1]\n",
      "data1 .* 2 = [2, 4, 6]\n",
      "data1 ./ 2 = [0.5, 1.0, 1.5]\n",
      "data1 .^ 2 = [1, 4, 9]\n"
     ]
    }
   ],
   "source": [
    "println(\"data1 .+ 2 = \", data1 .+ 2) # scalar addition \n",
    "println(\"data1 .- 2 = \", data1 .- 2) # scalar subtraction\n",
    "println(\"data1 .* 2 = \", data1 .* 2) # scalar multiplication\n",
    "println(\"data1 ./ 2 = \", data1 ./ 2) # scalar division\n",
    "println(\"data1 .^ 2 = \", data1 .^ 2) # scalar exponentiation"
   ]
  },
  {
   "cell_type": "markdown",
   "metadata": {},
   "source": [
    "- **Vector elementwise** addition, subtraction, multiplication, division and exponentiation:"
   ]
  },
  {
   "cell_type": "code",
   "execution_count": 46,
   "metadata": {},
   "outputs": [
    {
     "name": "stdout",
     "output_type": "stream",
     "text": [
      "data1 .+ data2 = [4, 4, 4]\n",
      "data1 .- data2 = [-2, 0, 2]\n",
      "data1 .* data2 = [3, 4, 3]\n",
      "data1 ./ data2 = [0.3333333333333333, 1.0, 3.0]\n",
      "data1 .^ data2 = [1, 4, 3]\n"
     ]
    }
   ],
   "source": [
    "println(\"data1 .+ data2 = \", data1 .+ data2) # vector elementwise addition \n",
    "println(\"data1 .- data2 = \", data1 .- data2) # vector elementwise subtraction\n",
    "println(\"data1 .* data2 = \", data1 .* data2) # vector elementwise multiplication\n",
    "println(\"data1 ./ data2 = \", data1 ./ data2) # vector elementwise division\n",
    "println(\"data1 .^ data2 = \", data1 .^ data2) # vector elementwise exponentiation "
   ]
  },
  {
   "cell_type": "markdown",
   "metadata": {},
   "source": [
    "- Any (built-in and user-defined) **function** can be applied *elementwise* to any (compatible) vector with the dot `.` syntax."
   ]
  },
  {
   "cell_type": "code",
   "execution_count": 47,
   "metadata": {},
   "outputs": [
    {
     "data": {
      "text/plain": [
       "3-element Vector{Float64}:\n",
       " 2.0\n",
       " 3.0\n",
       " 4.0"
      ]
     },
     "execution_count": 47,
     "metadata": {},
     "output_type": "execute_result"
    }
   ],
   "source": [
    "sqrt.([4, 9, 16])"
   ]
  },
  {
   "cell_type": "code",
   "execution_count": 48,
   "metadata": {},
   "outputs": [
    {
     "data": {
      "text/plain": [
       "6-element Vector{DataType}:\n",
       " Int64\n",
       " BigInt\n",
       " Float64\n",
       " Bool\n",
       " String\n",
       " Vector{Any}\u001b[90m (alias for \u001b[39m\u001b[90mArray{Any, 1}\u001b[39m\u001b[90m)\u001b[39m"
      ]
     },
     "execution_count": 48,
     "metadata": {},
     "output_type": "execute_result"
    }
   ],
   "source": [
    "typeof.([1, 999999999999999999999999999999999999999, 3.14, true, \"IPBA\", []])"
   ]
  },
  {
   "cell_type": "code",
   "execution_count": 49,
   "metadata": {},
   "outputs": [],
   "source": [
    "debit(t)=15000*(1+0.04)^t;\n",
    "periods = [6,8,10];"
   ]
  },
  {
   "cell_type": "code",
   "execution_count": 50,
   "metadata": {},
   "outputs": [
    {
     "data": {
      "text/plain": [
       "3-element Vector{Float64}:\n",
       " 18979.785277440005\n",
       " 20528.53575607911\n",
       " 22203.664273775164"
      ]
     },
     "execution_count": 50,
     "metadata": {},
     "output_type": "execute_result"
    }
   ],
   "source": [
    "debit.(periods)"
   ]
  },
  {
   "cell_type": "markdown",
   "metadata": {},
   "source": [
    "---\n",
    "###  `String` vs. `Vector`: Similarities\n",
    "\n",
    "`String`s and `Vector`s share many characteristics.\n",
    "- Values inside of vectors and strings are stored sequentially.\n",
    "    - Every value is associated with a position.\n",
    "    - Positions are associated with numbers referred to as indices (plural for *index*).\n",
    "    - Values can be retrieved using their index (i.e., the position's number).\n",
    "- To retrieve a value from a `String` or `Vector`, we pass the index of the position to the *bracket operator*.\n",
    "\n",
    "**Examples:**"
   ]
  },
  {
   "cell_type": "code",
   "execution_count": 51,
   "metadata": {},
   "outputs": [],
   "source": [
    "my_vector = [6, 5, 4, 3, 2, 1]\n",
    "my_string = \"Hello, world!\";"
   ]
  },
  {
   "cell_type": "code",
   "execution_count": 52,
   "metadata": {},
   "outputs": [
    {
     "data": {
      "text/plain": [
       "6"
      ]
     },
     "execution_count": 52,
     "metadata": {},
     "output_type": "execute_result"
    }
   ],
   "source": [
    "my_vector[1]"
   ]
  },
  {
   "cell_type": "code",
   "execution_count": 53,
   "metadata": {},
   "outputs": [
    {
     "data": {
      "text/plain": [
       "3"
      ]
     },
     "execution_count": 53,
     "metadata": {},
     "output_type": "execute_result"
    }
   ],
   "source": [
    "my_vector[4]"
   ]
  },
  {
   "cell_type": "code",
   "execution_count": 54,
   "metadata": {},
   "outputs": [
    {
     "data": {
      "text/plain": [
       "1"
      ]
     },
     "execution_count": 54,
     "metadata": {},
     "output_type": "execute_result"
    }
   ],
   "source": [
    "my_vector[end]"
   ]
  },
  {
   "cell_type": "code",
   "execution_count": 55,
   "metadata": {},
   "outputs": [
    {
     "data": {
      "text/plain": [
       "'H': ASCII/Unicode U+0048 (category Lu: Letter, uppercase)"
      ]
     },
     "execution_count": 55,
     "metadata": {},
     "output_type": "execute_result"
    }
   ],
   "source": [
    "my_string[1]"
   ]
  },
  {
   "cell_type": "code",
   "execution_count": 56,
   "metadata": {},
   "outputs": [
    {
     "data": {
      "text/plain": [
       "'l': ASCII/Unicode U+006C (category Ll: Letter, lowercase)"
      ]
     },
     "execution_count": 56,
     "metadata": {},
     "output_type": "execute_result"
    }
   ],
   "source": [
    "my_string[-10 + 14]"
   ]
  },
  {
   "cell_type": "code",
   "execution_count": 57,
   "metadata": {},
   "outputs": [
    {
     "data": {
      "text/plain": [
       "'l': ASCII/Unicode U+006C (category Ll: Letter, lowercase)"
      ]
     },
     "execution_count": 57,
     "metadata": {},
     "output_type": "execute_result"
    }
   ],
   "source": [
    "my_string[end-2]"
   ]
  },
  {
   "cell_type": "markdown",
   "metadata": {},
   "source": [
    "Instead of single numbers, we can also pass a *range* $\\rightarrow$ this is known as **slicing** (i.e., we take a *slice*).\n",
    "    \n",
    "**Examples:**"
   ]
  },
  {
   "cell_type": "code",
   "execution_count": 58,
   "metadata": {},
   "outputs": [
    {
     "data": {
      "text/plain": [
       "3-element Vector{Int64}:\n",
       " 5\n",
       " 4\n",
       " 3"
      ]
     },
     "execution_count": 58,
     "metadata": {},
     "output_type": "execute_result"
    }
   ],
   "source": [
    "my_vector[2:4]"
   ]
  },
  {
   "cell_type": "code",
   "execution_count": 59,
   "metadata": {},
   "outputs": [
    {
     "data": {
      "text/plain": [
       "\"ello, world\""
      ]
     },
     "execution_count": 59,
     "metadata": {},
     "output_type": "execute_result"
    }
   ],
   "source": [
    "my_string[2:end-1]"
   ]
  },
  {
   "cell_type": "markdown",
   "metadata": {},
   "source": [
    "- We can obtain the length of a vector or string with the function `length`."
   ]
  },
  {
   "cell_type": "code",
   "execution_count": 60,
   "metadata": {},
   "outputs": [
    {
     "data": {
      "text/plain": [
       "0"
      ]
     },
     "execution_count": 60,
     "metadata": {},
     "output_type": "execute_result"
    }
   ],
   "source": [
    "length([])"
   ]
  },
  {
   "cell_type": "code",
   "execution_count": 61,
   "metadata": {},
   "outputs": [
    {
     "data": {
      "text/plain": [
       "5"
      ]
     },
     "execution_count": 61,
     "metadata": {},
     "output_type": "execute_result"
    }
   ],
   "source": [
    "length(\"hello\")"
   ]
  },
  {
   "cell_type": "markdown",
   "metadata": {},
   "source": [
    "---\n",
    "###  `String` vs. `Vector`: Differences\n",
    "\n",
    "- We can change the values contained in a `Vector`, but not the values contained in a `String`.<br>\n",
    "$\\implies$ a `String` is an **immutable** data type.<br>\n",
    "$\\implies$ a `Vector` is a **mutable** data type.<br>"
   ]
  },
  {
   "cell_type": "code",
   "execution_count": 62,
   "metadata": {},
   "outputs": [],
   "source": [
    "word1 = \"Hello, \";\n",
    "word2 = \"vorld!\";"
   ]
  },
  {
   "cell_type": "markdown",
   "metadata": {},
   "source": [
    "- If we try to mutate a `String` an error will be raised."
   ]
  },
  {
   "cell_type": "code",
   "execution_count": 63,
   "metadata": {},
   "outputs": [
    {
     "ename": "LoadError",
     "evalue": "MethodError: no method matching setindex!(::String, ::Char, ::Int64)",
     "output_type": "error",
     "traceback": [
      "MethodError: no method matching setindex!(::String, ::Char, ::Int64)",
      "",
      "Stacktrace:",
      " [1] top-level scope",
      "   @ In[63]:1",
      " [2] eval",
      "   @ ./boot.jl:368 [inlined]",
      " [3] include_string(mapexpr::typeof(REPL.softscope), mod::Module, code::String, filename::String)",
      "   @ Base ./loading.jl:1428"
     ]
    }
   ],
   "source": [
    "word2[2] = '1'"
   ]
  },
  {
   "cell_type": "code",
   "execution_count": 64,
   "metadata": {},
   "outputs": [
    {
     "name": "stdout",
     "output_type": "stream",
     "text": [
      "[3, 4]\n"
     ]
    }
   ],
   "source": [
    "vector_we_mutate = [3, 10]\n",
    "vector_we_mutate[2] = 4\n",
    "println(vector_we_mutate)"
   ]
  },
  {
   "cell_type": "markdown",
   "metadata": {},
   "source": [
    "----\n",
    "### `String` Concatenation and Interpolation"
   ]
  },
  {
   "cell_type": "markdown",
   "metadata": {},
   "source": [
    "- We can *concatenate* two `String`s using the `*` operator."
   ]
  },
  {
   "cell_type": "code",
   "execution_count": 65,
   "metadata": {},
   "outputs": [
    {
     "data": {
      "text/plain": [
       "\"Hello, world!\""
      ]
     },
     "execution_count": 65,
     "metadata": {},
     "output_type": "execute_result"
    }
   ],
   "source": [
    "word1 = \"Hello, \";\n",
    "word2 = \"vorld!\";\n",
    "greeting = word1 * \"w\" * word2[2:end]"
   ]
  },
  {
   "cell_type": "code",
   "execution_count": 66,
   "metadata": {},
   "outputs": [
    {
     "name": "stdout",
     "output_type": "stream",
     "text": [
      "We have said \"Hello, world!\" 3 times in this lecture!\n"
     ]
    }
   ],
   "source": [
    "part1 = \"We have said \\\"Hello, world!\\\" \"\n",
    "part2 = string(3) \n",
    "part3 = \" times in this lecture!\"\n",
    "println(part1 * part2 * part3)"
   ]
  },
  {
   "cell_type": "markdown",
   "metadata": {},
   "source": [
    "- We can *interpolate* into a `String` using the `$` operator. "
   ]
  },
  {
   "cell_type": "code",
   "execution_count": 67,
   "metadata": {},
   "outputs": [
    {
     "name": "stdout",
     "output_type": "stream",
     "text": [
      "Here is the 4th time: Hello, world!\n"
     ]
    }
   ],
   "source": [
    "println(\"Here is the $(string(4))th time: $greeting\")"
   ]
  },
  {
   "cell_type": "markdown",
   "metadata": {},
   "source": [
    "---\n",
    "### The `push!` Function\n",
    "- A very useful built-in function for working with vectors is the `push!` function.\n",
    "- The `push!` can be used to insert one or more items at the end of the vector."
   ]
  },
  {
   "cell_type": "code",
   "execution_count": 68,
   "metadata": {},
   "outputs": [
    {
     "name": "stdout",
     "output_type": "stream",
     "text": [
      "[3, 4, 7]\n"
     ]
    }
   ],
   "source": [
    "vector_we_push_into = [3,4]; \n",
    "push!(vector_we_push_into, 7)\n",
    "println(vector_we_push_into)"
   ]
  },
  {
   "cell_type": "code",
   "execution_count": 69,
   "metadata": {},
   "outputs": [
    {
     "name": "stdout",
     "output_type": "stream",
     "text": [
      "[3, 4, 7, 11, 18, 29]\n"
     ]
    }
   ],
   "source": [
    "push!(vector_we_push_into, 11,18,29)\n",
    "println(vector_we_push_into)"
   ]
  },
  {
   "cell_type": "markdown",
   "metadata": {},
   "source": [
    "**Note:** A stylistic convention in the Julia language is to indicate any function that changes at least one of their arguments by using `!` as the last character in its name."
   ]
  },
  {
   "cell_type": "markdown",
   "metadata": {},
   "source": [
    "---\n",
    "### Summary: Looking Back and Looking Forward\n",
    "\n",
    "**Looking Back:**\n",
    "- **`Int64`:** stores (positive and negative) *whole* numbers within a *limited range*.\n",
    "- **`BigInt`:** stores (positive and negative) *whole* numbers, even those *outside* of `Int64` range.\n",
    "- **`Float64`:** stores (positive and negative) numbers that have potential *decimal* places.\n",
    "- **`Bool`:** stores two possible logical (*Boolean*) values: `true` and `false`.\n",
    "- **`String`:** a set of characters for representing *text*.\n",
    "- **`Vector`:** a data *container* that may contain more than one value.\n",
    "\n",
    "**Looking Forward:**\n",
    "- How can we use these different data types in a meaningfull context.\n",
    "- The *conditional execution* and *repetition* parts of a progrm."
   ]
  }
 ],
 "metadata": {
  "kernelspec": {
   "display_name": "Julia 1.8.2",
   "language": "julia",
   "name": "julia-1.8"
  },
  "language_info": {
   "file_extension": ".jl",
   "mimetype": "application/julia",
   "name": "julia",
   "version": "1.8.2"
  }
 },
 "nbformat": 4,
 "nbformat_minor": 4
}
