{
 "cells": [
  {
   "cell_type": "markdown",
   "metadata": {},
   "source": [
    "<img src=\"https://www.dpo.rwth-aachen.de/global/show_picture_asis.asp?id=aaaaaaaabftpwfx\" width=200 height=200 align=\"left\" /> <img src=\"https://www.dpo.rwth-aachen.de/global/show_picture_asis.asp?id=aaaaaaaabftpxde\" width=200 height=200 align=\"right\" />"
   ]
  },
  {
   "cell_type": "markdown",
   "metadata": {},
   "source": [
    "<h1><center> Introduction to Programming for Business Analytics </center></h1>  \n",
    "\n",
    "<p style=\"text-align:left;\">\n",
    "    Murwan Siddig, Stefan Pilot\n",
    "</p>\n",
    "<a href=\"mailto:ipba@dpo.rwth-aachen.de\">ipba@dpo.rwth-aachen.de</a> <br>"
   ]
  },
  {
   "cell_type": "markdown",
   "metadata": {},
   "source": [
    "## Exercise 3: Control Flow\n",
    "\n",
    "Welcome to the third exercise sheet! A quick word of advice before you get started:\n",
    "\n",
    "* Every task in the IPBA exercises is labelled:\n",
    "    - Tasks labelled as \u2b50 require that you reproduce what you saw during the lecture.\n",
    "    - Tasks labelled as \u2b50\u2b50 require that you apply your skills and knowledge in a new context or to a new problem.\n",
    "    - Tasks labelled as \u2b50\u2b50\u2b50 require that you do research to learn something that was not discussed in the lecture. \n",
    "* Some tasks ask you to write some Julia code. Type your code in the code cells which are labelled with `# Start your code here` or `# Test your function here`.\n",
    "* To find the answers, study the lecture videos, lecture slides, the book [Think Julia!](https://benlauwens.github.io/ThinkJulia.jl/latest/book.html), or the [official Julia documentation](https://docs.julialang.org/en/v1/). \n",
    "* If there is any task you cannot solve by yourself, ask for help on Moodle or in a live session.\n"
   ]
  },
  {
   "cell_type": "markdown",
   "metadata": {},
   "source": [
    "### Task 1: Logical Operators \u2b50\n",
    "\n",
    "Give three examples for a `Bool` expression which involves a logical operator."
   ]
  },
  {
   "cell_type": "code",
   "execution_count": null,
   "metadata": {},
   "outputs": [],
   "source": [
    "# Start your code here:\n"
   ]
  },
  {
   "cell_type": "code",
   "execution_count": null,
   "metadata": {
    "slideshow": {
     "slide_type": "slide"
    }
   },
   "outputs": [],
   "source": [
    "# Start your code here:\n"
   ]
  },
  {
   "cell_type": "code",
   "execution_count": null,
   "metadata": {
    "slideshow": {
     "slide_type": "slide"
    }
   },
   "outputs": [],
   "source": [
    "# Start your code here:\n"
   ]
  },
  {
   "cell_type": "markdown",
   "metadata": {},
   "source": [
    "### Task 2: Truth Table \u2b50\u2b50\n",
    "\n",
    "Complete the truth table.\n",
    "\n",
    "| `p `   | `q `   | `p && q ` | `p \\|\\| q ` | `!p ` | `(p && !q) \\|\\| (!p && q)` |\n",
    "|--------|--------|-----------|-------------|-------|----------------------------|\n",
    "| `true` | `true` |           |             |       |                            |\n",
    "| `true` | `false`|           |             |       |                            |\n",
    "| `false`| `true` |           |             |`true` |                            |\n",
    "| `false`| `false`| `false`   |             |       |                            |"
   ]
  },
  {
   "cell_type": "markdown",
   "metadata": {},
   "source": [
    "### Task 3: Translating logical expressions to if-else branches \u2b50\u2b50\n",
    "Let's define two variables and assign a `Bool` value to each of them."
   ]
  },
  {
   "cell_type": "code",
   "execution_count": null,
   "metadata": {},
   "outputs": [],
   "source": [
    "a = true\n",
    "b = false"
   ]
  },
  {
   "cell_type": "markdown",
   "metadata": {},
   "source": [
    "Now, the following two Julia code cells are semantically equivalent. This means that they will print the same result in the same circumstances."
   ]
  },
  {
   "cell_type": "code",
   "execution_count": null,
   "metadata": {},
   "outputs": [],
   "source": [
    "println(!a)"
   ]
  },
  {
   "cell_type": "code",
   "execution_count": null,
   "metadata": {},
   "outputs": [],
   "source": [
    "if a\n",
    "    println(false)\n",
    "else\n",
    "    println(true)\n",
    "end"
   ]
  },
  {
   "cell_type": "markdown",
   "metadata": {},
   "source": [
    "Use nested if-else branches to make the next code cell semantically equivalent to the code \n",
    "\n",
    "```julia\n",
    "println(a && b)\n",
    "```"
   ]
  },
  {
   "cell_type": "code",
   "execution_count": null,
   "metadata": {},
   "outputs": [],
   "source": [
    "# Start your code here:\n"
   ]
  },
  {
   "cell_type": "markdown",
   "metadata": {},
   "source": [
    "Use logical operators to make the next code cell semantically equivalent to the code\n",
    "\n",
    "```julia\n",
    "if a\n",
    "    println(false)\n",
    "else\n",
    "    if b\n",
    "        println(false)\n",
    "    else\n",
    "        println(true)\n",
    "    end\n",
    "end\n",
    "```"
   ]
  },
  {
   "cell_type": "code",
   "execution_count": null,
   "metadata": {},
   "outputs": [],
   "source": [
    "# Start your code here:\n"
   ]
  },
  {
   "cell_type": "markdown",
   "metadata": {},
   "source": [
    "Use nested if-else branches to make the next code cell semantically equivalent to the code\n",
    "\n",
    "```julia\n",
    "println((a && !b) || (!a && b))\n",
    "```"
   ]
  },
  {
   "cell_type": "code",
   "execution_count": null,
   "metadata": {
    "scrolled": true
   },
   "outputs": [],
   "source": [
    "# Start your code here:\n"
   ]
  },
  {
   "cell_type": "markdown",
   "metadata": {},
   "source": [
    "### Task 4: Parking meter \u2b50\u2b50\n",
    "\n",
    "In your internship at an IT consulting company, you are asked to write Julia code for a simple parking meter. The parking meter accepts one coin, and prints out a ticket indicating the time until which the ticket is valid. A \u20ac0.5 coin buys 15 minutes of parking, a \u20ac1 coin buys 45 minutes, and a \u20ac2 coin buys 2 hours. The part of the code you have to write is provided with three variables:\n",
    "- `coin` indicates the coin which was put into the machine, either `\"\u20ac0.5\"`, `\"\u20ac1\"`, or `\"\u20ac2\"`.\n",
    "- `hour` contains the hour at which the coin was put in.\n",
    "- `minute` contains the minute at which the coin was put in.\n",
    "\n",
    "Write Julia code which prints out the text that should be on the ticket. For example, for the values"
   ]
  },
  {
   "cell_type": "code",
   "execution_count": null,
   "metadata": {},
   "outputs": [],
   "source": [
    "coin = \"\u20ac0.5\"\n",
    "hour = 23\n",
    "minute = 50"
   ]
  },
  {
   "cell_type": "markdown",
   "metadata": {},
   "source": [
    "your code should print:<br>\n",
    "`\"\u20ac0.5 entered at 23:50. Ticket valid until 00:05.\"`\n",
    "\n",
    "(Hint: To convert a number of minutes (e.g. 70 minutes) into a number of hours and minutes (e.g. 1 hour and 10 minutes), it is handy to use integer division, i.e. division with a remainder. To obtain the quotient, you can use the Julia operator `\u00f7`. To obtain the remainder, you can use the operator `%`. For example, the Julia expression `70 \u00f7 60` evaluates to `1`, and the Julia expression `70 % 60` evaluates to `10`.)\n"
   ]
  },
  {
   "cell_type": "code",
   "execution_count": null,
   "metadata": {},
   "outputs": [],
   "source": [
    "# Start your code here:\n"
   ]
  },
  {
   "cell_type": "markdown",
   "metadata": {},
   "source": [
    "### Task 5: Translate between `for` and `while` \u2b50\u2b50\n",
    "\n",
    "The following two code cells are semantically equivalent, i.e. they print the same result in the same circumstances."
   ]
  },
  {
   "cell_type": "code",
   "execution_count": null,
   "metadata": {},
   "outputs": [],
   "source": [
    "for i in 1:10\n",
    "    println(i)\n",
    "end"
   ]
  },
  {
   "cell_type": "code",
   "execution_count": null,
   "metadata": {},
   "outputs": [],
   "source": [
    "i = 1\n",
    "while i <= 10\n",
    "    println(i)\n",
    "    i += 1\n",
    "end"
   ]
  },
  {
   "cell_type": "markdown",
   "metadata": {},
   "source": [
    "Use a `for` loop to make the code in the next cell semantically equivalent to the code\n",
    "\n",
    "```julia\n",
    "countdown = 10\n",
    "while i >= 1\n",
    "    println(countdown)\n",
    "    countdown -= 1\n",
    "end\n",
    "```"
   ]
  },
  {
   "cell_type": "code",
   "execution_count": null,
   "metadata": {},
   "outputs": [],
   "source": [
    "# Start your code here:\n"
   ]
  },
  {
   "cell_type": "markdown",
   "metadata": {},
   "source": [
    "In Robert McCloskey\u2019s book Make Way for Ducklings, the names of the ducklings are Jack, Kack, Lack, Mack, Nack, Ouack, Pack, and Quack. The following program traverses the string `\"JKLMNOPQ\"` to create the names and display each one in a new line."
   ]
  },
  {
   "cell_type": "code",
   "execution_count": null,
   "metadata": {},
   "outputs": [],
   "source": [
    "prefixes = \"JKLMNOPQ\"\n",
    "suffix = \"ack\"\n",
    "for letter in prefixes\n",
    "    println(letter * suffix)\n",
    "end"
   ]
  },
  {
   "cell_type": "markdown",
   "metadata": {},
   "source": [
    "Use a `while` loop to write a semantically equivalent program."
   ]
  },
  {
   "cell_type": "code",
   "execution_count": null,
   "metadata": {},
   "outputs": [],
   "source": [
    "# Start your code here:\n"
   ]
  },
  {
   "cell_type": "markdown",
   "metadata": {},
   "source": [
    "### Task 6: Equivalence between `for` and `while` \u2b50\u2b50\n",
    "\n",
    "Are `for` loops and `while` loops semantically equivalent? In other words, can every `for` loop be converted into a semantically equivalent `while` loop, and vice versa? If your answer is *yes*, justify your answer. If your answer is *no*, give a counterexample."
   ]
  },
  {
   "cell_type": "markdown",
   "metadata": {},
   "source": [
    "### Task 7: Sieve of Eratosthenes \u2b50\u2b50\n",
    "\n",
    "The Sieve of Eratosthenes is an algorithm for finding all prime numbers up to a given limit, $n$. The algorithm uses a list of marks, one for every number between $2$ and $n$. Every mark always has one of two states, either *prime* or *not prime*. The algorithm works by going through the numbers from $2$ to $n$ in ascending order, and executing these steps:\n",
    "1. Skip the current number if it has already been marked as *not prime*.\n",
    "2. The current number is a prime. Print it out.\n",
    "3. Mark as *not prime* all numbers that are an integer multiple of the current number.\n",
    "\n",
    "Let's define a variable for $n$:"
   ]
  },
  {
   "cell_type": "code",
   "execution_count": null,
   "metadata": {},
   "outputs": [],
   "source": [
    "n = 100"
   ]
  },
  {
   "cell_type": "markdown",
   "metadata": {},
   "source": [
    "Write Julia code that implements the algorithm. Start by creating a `Vector` of `Bool` values, one for every number between 1 and $n$. At first, every element of the `Vector` is `true`. After that, use a loop to go through all numbers between $2$ and $n$. Inside, use another loop for marking numbers in step 3. To mark a number as *not prime*, change its entry in your `Vector` to `false`."
   ]
  },
  {
   "cell_type": "code",
   "execution_count": null,
   "metadata": {},
   "outputs": [],
   "source": [
    "# Start your code here:\n"
   ]
  },
  {
   "attachments": {
    "ex3_plot.png": {
     "image/png": "[encoded data removed]"
    }
   },
   "cell_type": "markdown",
   "metadata": {},
   "source": [
    "### Task 8: Gradient Descent \u2b50\u2b50\n",
    "\n",
    "Gradient descent (GD) is a simple algorithm for finding a local minimum of a differentiable function. The algorithm is widely used in industry and research. In this task, you will implement GD to minimize the simple function:\n",
    "\n",
    "$$\n",
    "f(x) = x^4 + x^2 - 5x\n",
    "$$\n",
    "\n",
    "which has a global minimum at $x \\approx 0.924$\n",
    "\n",
    "The following figure shows the function in blue, with three different tangents. GD can be described as repeatedly replacing $x^*$ with the minimum of the tangent in a small interval around $x^*$, until the tangent becomes parallel to the x-axis.\n",
    "\n",
    "![ex3_plot.png](attachment:ex3_plot.png)\n",
    "\n",
    "In more exact terminology, to begin the algorithm, one needs:\n",
    "- a function $f$\n",
    "- its derivative $f'$\n",
    "- an initial guess for the local minimum $x^*$\n",
    "- a learning rate $\\alpha$ (used to determine the step size),\n",
    "- a stopping criterion,\n",
    "- and a maximum number of iterations (necessary because the algorithm might never actually find a minimum of $f$).\n",
    "\n",
    "The algorithm is:\n",
    "- Step 1: Check if the stopping criterion is met or the maximum number of iterations is reached. If so, the algorithm is done.\n",
    "- Step 2: Replace $x^*$ with $x^* - \\alpha f'(x^*)$\n",
    "- Step 3: Update the counter for the number of iterations, and go back to Step 1.\n",
    "\n",
    "To implement Gradient Descent and test your implementation, do the following steps in Julia:\n",
    "1. Implement $f$ as a Julia function."
   ]
  },
  {
   "cell_type": "code",
   "execution_count": null,
   "metadata": {},
   "outputs": [],
   "source": [
    "# Start your code here:\n"
   ]
  },
  {
   "cell_type": "markdown",
   "metadata": {},
   "source": [
    "2. Implement the function's derivative, $ f'(x) = 4x^3 + 2x - 5 $"
   ]
  },
  {
   "cell_type": "code",
   "execution_count": null,
   "metadata": {},
   "outputs": [],
   "source": [
    "# Start your code here:\n"
   ]
  },
  {
   "cell_type": "markdown",
   "metadata": {},
   "source": [
    "3. One simple stopping criterion for Gradient Descent is to stop if $f'(x^*)$ becomes close to $0$. Define a function for the stopping criterion. Your function should be called `should_stop` and have two parameters: $x^*$ and `tolerance`. A call to `should_stop` should evaluate to `true` if the absolute value of $f'(x^*)$ is smaller than `tolerance`, otherwise, `false`."
   ]
  },
  {
   "cell_type": "code",
   "execution_count": null,
   "metadata": {},
   "outputs": [],
   "source": [
    "# Start your code here:\n"
   ]
  },
  {
   "cell_type": "markdown",
   "metadata": {},
   "source": [
    "4. Define variables for the constant values in the algorithm: $\\alpha = 0.001$, the tolerance $0.0001$, and the maximum number of iterations $10000$."
   ]
  },
  {
   "cell_type": "code",
   "execution_count": null,
   "metadata": {},
   "outputs": [],
   "source": [
    "# Start your code here:\n"
   ]
  },
  {
   "cell_type": "markdown",
   "metadata": {},
   "source": [
    "5. Define variables for the two non-constant values of the algorithm: $x^*$ and the iteration counter. Then, use a while-loop to implement the three steps of the algorithm as described above. Furthermore, include a call to `println` in the loop's body, which prints a message that indicates the current iteration and the current value of $x^*$. After the algorithm has terminated, print the minimum that has been found. Check if your implementation's result is correct by comparing it to the given minimum.\n",
    "\n",
    "(Note: Gradient descent does not always work, depending on the choice of $x^*$ and  $\\alpha$. If you use $x^* = -5$ as your initial guess, a correctly implemented algorithm will come very close to the global minimum.)"
   ]
  },
  {
   "cell_type": "code",
   "execution_count": null,
   "metadata": {},
   "outputs": [],
   "source": [
    "# Start your code here:\n"
   ]
  },
  {
   "cell_type": "markdown",
   "metadata": {},
   "source": [
    "### Task 9: Fundraising \u2b50\u2b50\n",
    "\n",
    "Suppose you come up with a new product idea and would like to start your own business. As a student, you need some investors to financially support your project. When you share your ambitions with your colleagues and friends, some of them are ready to invest. You write down potential investors and their investment in the following table. The column *Your preference* indicates how much you like the respective investor, with 6 being the highest preference and 1 being the lowest preference.\n",
    "\n",
    "| Investor             | Potential investment (\u20ac) | Your preference |\n",
    "| :------------------- | -----------------------: | --------------- | \n",
    "| Uni's startup fund   |                    11000 |               2 |\n",
    "| Entrepreneur club    |                     4000 |               6 |\n",
    "| Sports club          |                        0 |               5 |\n",
    "| Colleagues from work |                        0 |               3 |\n",
    "| Rich grandma         |                    10000 |               4 |\n",
    "| Random neighbor      |                     2500 |               1 |\n",
    "\n",
    "Represent the table in the form of three Julia `Vector`s: a `Vector` of strings and two `Vector`s of numbers."
   ]
  },
  {
   "cell_type": "code",
   "execution_count": null,
   "metadata": {
    "tags": []
   },
   "outputs": [],
   "source": [
    "# Start your code here:\n"
   ]
  },
  {
   "cell_type": "markdown",
   "metadata": {
    "tags": []
   },
   "source": [
    "How much money have you raised so far in total? Write Julia code to find the answer."
   ]
  },
  {
   "cell_type": "code",
   "execution_count": null,
   "metadata": {},
   "outputs": [],
   "source": [
    "# Start your code here:\n"
   ]
  },
  {
   "cell_type": "markdown",
   "metadata": {},
   "source": [
    "Now you want to decide which investments you should accept. You want to avoid to talk to those investors again who said they would not invest any money. Using Julia, create copies of your three `arrays` which do not include those entries for which the column *investments* contains a $0$. While you create the filtered `arrays`, print each row in the filtered table. For example, the first line of your output should be\n",
    "\n",
    "    Investor=Uni's startup fund, Investment=11000, Preference=2"
   ]
  },
  {
   "cell_type": "code",
   "execution_count": null,
   "metadata": {},
   "outputs": [],
   "source": [
    "# Start your code here:\n"
   ]
  },
  {
   "cell_type": "markdown",
   "metadata": {},
   "source": [
    "You know that you need no more than \u20ac $25000$ at the beginning. You want to keep the number of investors minimal as long as you reach that threshold. At the same time, you want to accept investments which you prefer the most first. Which investments should you accept? Write Julia code to find the answer. Print the group of investors, one per line, and the sum of their investments in the last line.\n",
    "\n",
    "Hint: You can use the function [`sortperm`](https://docs.julialang.org/en/v1/base/sort/#Base.sortperm) and array slicing to sort one `array` according to the items of another `array`. Example:"
   ]
  },
  {
   "cell_type": "code",
   "execution_count": null,
   "metadata": {},
   "outputs": [],
   "source": [
    "keys = [3, 1, 2]\n",
    "values = [\"B\", \"C\", \"A\"]\n",
    "values[sortperm(keys)]"
   ]
  },
  {
   "cell_type": "code",
   "execution_count": null,
   "metadata": {},
   "outputs": [],
   "source": [
    "# Start your code here:\n"
   ]
  }
 ],
 "metadata": {
  "kernelspec": {
   "display_name": "Julia 1.8.2",
   "language": "julia",
   "name": "julia-1.8"
  },
  "language_info": {
   "file_extension": ".jl",
   "mimetype": "application/julia",
   "name": "julia",
   "version": "1.8.2"
  }
 },
 "nbformat": 4,
 "nbformat_minor": 4
}